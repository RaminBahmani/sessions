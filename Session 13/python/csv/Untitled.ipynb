{
 "cells": [
  {
   "cell_type": "code",
   "execution_count": 1,
   "metadata": {},
   "outputs": [],
   "source": [
    "import csv"
   ]
  },
  {
   "cell_type": "code",
   "execution_count": 27,
   "metadata": {},
   "outputs": [
    {
     "name": "stdout",
     "output_type": "stream",
     "text": [
      "['name', 'department', 'birthday month', 'address']\n",
      "['John Smith', 'Accounting', 'November', '10715 84 ave, NW']\n",
      "['Erica Meyers', 'IT', 'March', '10101 80 ave, S']\n"
     ]
    }
   ],
   "source": [
    "with open(\"./escapechar.txt\") as csv_file:\n",
    "    csv_reader = csv.reader(csv_file, escapechar = '\\\\')\n",
    "    \n",
    "    for line in csv_reader:\n",
    "        print(line)"
   ]
  },
  {
   "cell_type": "code",
   "execution_count": 40,
   "metadata": {},
   "outputs": [],
   "source": [
    "with open('new_write.yousef', 'w') as csv_file:\n",
    "    csv_writer = csv.writer(csv_file, quoting=csv.QUOTE_NONE, escapechar='\\\\')\n",
    "    \n",
    "    csv_writer.writerow([1, 'b', 'c', '10715 84 AVE, NW'])"
   ]
  },
  {
   "cell_type": "code",
   "execution_count": null,
   "metadata": {},
   "outputs": [],
   "source": []
  }
 ],
 "metadata": {
  "kernelspec": {
   "display_name": "Python 3",
   "language": "python",
   "name": "python3"
  },
  "language_info": {
   "codemirror_mode": {
    "name": "ipython",
    "version": 3
   },
   "file_extension": ".py",
   "mimetype": "text/x-python",
   "name": "python",
   "nbconvert_exporter": "python",
   "pygments_lexer": "ipython3",
   "version": "3.6.9"
  }
 },
 "nbformat": 4,
 "nbformat_minor": 2
}
